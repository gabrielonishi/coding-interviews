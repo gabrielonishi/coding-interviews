{
 "cells": [
  {
   "cell_type": "markdown",
   "metadata": {},
   "source": [
    "# Aula - Manipulação de Bits\n",
    "\n",
    "Aula expositiva a respeito da manipulação de bits. Em alguns casos, isso pode trazer maior eficiência para o código.\n",
    "\n",
    "## 1. Operações\n",
    "\n",
    "Abaixo detalhamos algumas operações possíveis com bits dentro Python\n",
    "\n",
    "### Shift"
   ]
  },
  {
   "cell_type": "code",
   "execution_count": 3,
   "metadata": {},
   "outputs": [
    {
     "name": "stdout",
     "output_type": "stream",
     "text": [
      "5\n"
     ]
    }
   ],
   "source": [
    "# O que o seguinte código faz?\n",
    "n = 10\n",
    "print(n >> 1)"
   ]
  },
  {
   "cell_type": "markdown",
   "metadata": {},
   "source": [
    "A resposta é que depende\n",
    " - Se for unsigned, os bits shiftam para a esquerda\n",
    " - Se for signed, replica o bit mais significativo para a esquerda e depois shifta\n",
    "\n",
    "Em termos práticos, divide por 2"
   ]
  },
  {
   "cell_type": "code",
   "execution_count": 8,
   "metadata": {},
   "outputs": [
    {
     "name": "stdout",
     "output_type": "stream",
     "text": [
      "40\n"
     ]
    }
   ],
   "source": [
    "# E o código abaixo?\n",
    "n = 10\n",
    "print(n << 2)"
   ]
  },
  {
   "cell_type": "markdown",
   "metadata": {},
   "source": [
    "Multiplica por 4!\n",
    "Isso acontece porque deslocar cada casa representa $2^n$, então shiftar duas casas para a esquerda efetivamente multiplica o número por 4!"
   ]
  }
 ],
 "metadata": {
  "kernelspec": {
   "display_name": "env",
   "language": "python",
   "name": "python3"
  },
  "language_info": {
   "codemirror_mode": {
    "name": "ipython",
    "version": 3
   },
   "file_extension": ".py",
   "mimetype": "text/x-python",
   "name": "python",
   "nbconvert_exporter": "python",
   "pygments_lexer": "ipython3",
   "version": "3.10.12"
  }
 },
 "nbformat": 4,
 "nbformat_minor": 2
}
